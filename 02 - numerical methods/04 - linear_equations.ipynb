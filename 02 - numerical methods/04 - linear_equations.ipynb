{
 "cells": [
  {
   "cell_type": "markdown",
   "id": "be1a6037",
   "metadata": {},
   "source": [
    "# Linear Equations\n",
    "\n",
    "A linear equation is a mathematical statement that represents a straight line when graphed."
   ]
  },
  {
   "cell_type": "markdown",
   "id": "0df1b504",
   "metadata": {},
   "source": [
    "Let's import the libs first,"
   ]
  },
  {
   "cell_type": "markdown",
   "id": "1f564f78",
   "metadata": {},
   "source": [
    "Then let's take input from user, in the following format,\n",
    "```\n",
    "Enter number of unknowns: 3\n",
    "Enter row 1 in the format (ax + by + cz = d)\n",
    "```"
   ]
  },
  {
   "cell_type": "code",
   "execution_count": 180,
   "id": "ba5ab04e",
   "metadata": {},
   "outputs": [],
   "source": [
    "# User input (auto)\n",
    "# N = int(input(\"Enter number of unknowns: \"))\n",
    "\n",
    "# arr = []\n",
    "# for i in range(N):\n",
    "#     arr.append(list(map(int, input().split())))\n",
    "\n",
    "# User input (manual)\n",
    "N = 3\n",
    "arr = [[2, 1, -1, 8], [-3, -1, 2, -11], [-2, 1, 2, -3]]"
   ]
  },
  {
   "cell_type": "code",
   "execution_count": 181,
   "id": "9c0333ed",
   "metadata": {},
   "outputs": [
    {
     "name": "stdout",
     "output_type": "stream",
     "text": [
      "3\n",
      "[2, 1, -1, 8]\n",
      "[-3, -1, 2, -11]\n",
      "[-2, 1, 2, -3]\n"
     ]
    }
   ],
   "source": [
    "# User input's output\n",
    "print(N)\n",
    "\n",
    "def print_arr(arr):\n",
    "  for i in range(N):\n",
    "    print(arr[i])\n",
    "\n",
    "print_arr(arr)"
   ]
  },
  {
   "cell_type": "markdown",
   "id": "c1b10f14",
   "metadata": {},
   "source": [
    "## Gaussian Elimination"
   ]
  },
  {
   "cell_type": "code",
   "execution_count": 182,
   "id": "4b00a103",
   "metadata": {},
   "outputs": [
    {
     "name": "stdout",
     "output_type": "stream",
     "text": [
      "[1.0, 0.5, -0.5, 4.0]\n",
      "[0.0, 0.5, 0.5, 1.0]\n",
      "[0.0, 2.0, 1.0, 5.0]\n",
      "\n",
      "[1.0, 0.5, -0.5, 4.0]\n",
      "[0.0, 1.0, 1.0, 2.0]\n",
      "[0.0, 0.0, -1.0, 1.0]\n",
      "\n",
      "[1.0, 0.5, -0.5, 4.0]\n",
      "[0.0, 1.0, 1.0, 2.0]\n",
      "[0.0, 0.0, 1.0, -1.0]\n",
      "\n",
      "[2.0, 3.0, -1.0]\n"
     ]
    }
   ],
   "source": [
    "import copy\n",
    "\n",
    "def gaussian_elimination(N, arr):\n",
    "  arr = copy.deepcopy(arr)\n",
    "  for i in range(N):\n",
    "    for j in range(N, -1, -1):\n",
    "      arr[i][j] /= arr[i][0+i]\n",
    "      \n",
    "    for j in range(i+1, N):  \n",
    "      for k in range(N, -1, -1):\n",
    "        arr[j][k] -= arr[i][k] * arr[j][0+i]\n",
    "\n",
    "    print_arr(arr)\n",
    "    print()\n",
    "\n",
    "  solve = [0 for j in range(N)]\n",
    "  for i in range(N-1, -1, -1):\n",
    "    for j in range(N):\n",
    "      solve[i] = arr[i][N]\n",
    "      for k in range(i+1, N):\n",
    "        solve[i] -= arr[i][k] * solve[k]\n",
    "    solve[i] /= arr[i][i]\n",
    "\n",
    "  print(solve)\n",
    "\n",
    "gaussian_elimination(N, arr)"
   ]
  }
 ],
 "metadata": {
  "kernelspec": {
   "display_name": ".venv",
   "language": "python",
   "name": "python3"
  },
  "language_info": {
   "codemirror_mode": {
    "name": "ipython",
    "version": 3
   },
   "file_extension": ".py",
   "mimetype": "text/x-python",
   "name": "python",
   "nbconvert_exporter": "python",
   "pygments_lexer": "ipython3",
   "version": "3.13.5"
  }
 },
 "nbformat": 4,
 "nbformat_minor": 5
}
