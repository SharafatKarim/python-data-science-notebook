{
 "cells": [
  {
   "cell_type": "markdown",
   "id": "d3a67123-1efb-49f3-ba3b-ffa1fd36e208",
   "metadata": {},
   "source": [
    "# Test\n",
    "A little bit of test subject here"
   ]
  },
  {
   "cell_type": "code",
   "execution_count": null,
   "id": "8414eef0-73ad-4599-8f4f-d0fa20454560",
   "metadata": {},
   "outputs": [],
   "source": [
    "print('')"
   ]
  }
 ],
 "metadata": {
  "kernelspec": {
   "display_name": "Python 3 (ipykernel)",
   "language": "python",
   "name": "python3"
  },
  "language_info": {
   "codemirror_mode": {
    "name": "ipython",
    "version": 3
   },
   "file_extension": ".py",
   "mimetype": "text/x-python",
   "name": "python",
   "nbconvert_exporter": "python",
   "pygments_lexer": "ipython3",
   "version": "3.13.5"
  }
 },
 "nbformat": 4,
 "nbformat_minor": 5
}
