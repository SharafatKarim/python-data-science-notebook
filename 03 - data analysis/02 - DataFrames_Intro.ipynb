{
 "cells": [
  {
   "cell_type": "markdown",
   "id": "25451953",
   "metadata": {},
   "source": [
    "# DataFrames Basics"
   ]
  },
  {
   "cell_type": "markdown",
   "id": "508f2ec4-6850-4f2f-86bf-6e7393063fcf",
   "metadata": {},
   "source": [
    "## Import libs\n",
    "\n",
    "First let's import both pandas and numpy."
   ]
  },
  {
   "cell_type": "code",
   "execution_count": 2,
   "id": "4d931c70",
   "metadata": {},
   "outputs": [],
   "source": [
    "import pandas as pd\n",
    "import numpy as np"
   ]
  },
  {
   "cell_type": "markdown",
   "id": "7089c67e",
   "metadata": {},
   "source": [
    "The `read_csv` method will read in a CSV file and returns to us a DataFrame"
   ]
  },
  {
   "cell_type": "markdown",
   "id": "451696f0-a3c7-4154-bbb3-c7c4f4188ca4",
   "metadata": {},
   "source": [
    "## One dimention array"
   ]
  },
  {
   "cell_type": "code",
   "execution_count": 3,
   "id": "5c360a7a-5c1d-402e-a2af-2d45a4dd2fe1",
   "metadata": {},
   "outputs": [
    {
     "data": {
      "text/plain": [
       "0    1.0\n",
       "1    3.0\n",
       "2    5.0\n",
       "3    NaN\n",
       "4    6.0\n",
       "5    8.0\n",
       "dtype: float64"
      ]
     },
     "execution_count": 3,
     "metadata": {},
     "output_type": "execute_result"
    }
   ],
   "source": [
    "sr = pd.Series([1, 3, 5, np.nan, 6, 8])\n",
    "sr"
   ]
  },
  {
   "cell_type": "code",
   "execution_count": 4,
   "id": "d5e9a76d-9e9b-4f73-ac77-1b906dfe9b6a",
   "metadata": {},
   "outputs": [
    {
     "data": {
      "text/plain": [
       "pandas.core.series.Series"
      ]
     },
     "execution_count": 4,
     "metadata": {},
     "output_type": "execute_result"
    }
   ],
   "source": [
    "type(sr)"
   ]
  },
  {
   "cell_type": "code",
   "execution_count": 5,
   "id": "8c291c68-6370-4257-b06c-c0ed9695cac6",
   "metadata": {},
   "outputs": [
    {
     "data": {
      "text/plain": [
       "count    5.000000\n",
       "mean     4.600000\n",
       "std      2.701851\n",
       "min      1.000000\n",
       "25%      3.000000\n",
       "50%      5.000000\n",
       "75%      6.000000\n",
       "max      8.000000\n",
       "dtype: float64"
      ]
     },
     "execution_count": 5,
     "metadata": {},
     "output_type": "execute_result"
    }
   ],
   "source": [
    "sr.describe()"
   ]
  },
  {
   "cell_type": "code",
   "execution_count": 6,
   "id": "c041b5b8-a4c6-4ae0-a64e-a25b919f8908",
   "metadata": {},
   "outputs": [
    {
     "data": {
      "text/plain": [
       "array([ 1.,  3.,  5., nan,  6.,  8.])"
      ]
     },
     "execution_count": 6,
     "metadata": {},
     "output_type": "execute_result"
    }
   ],
   "source": [
    "sr.to_numpy()"
   ]
  },
  {
   "cell_type": "markdown",
   "id": "9e212474-8c78-4395-b934-c158fc015758",
   "metadata": {},
   "source": [
    "## Two dimention array"
   ]
  },
  {
   "cell_type": "code",
   "execution_count": 7,
   "id": "6c5f938f-d20b-478d-a186-e7e08368752d",
   "metadata": {},
   "outputs": [
    {
     "data": {
      "text/plain": [
       "DatetimeIndex(['2013-01-01', '2013-01-02', '2013-01-03', '2013-01-04',\n",
       "               '2013-01-05', '2013-01-06'],\n",
       "              dtype='datetime64[ns]', freq='D')"
      ]
     },
     "execution_count": 7,
     "metadata": {},
     "output_type": "execute_result"
    }
   ],
   "source": [
    "dates = pd.date_range(\"20130101\", periods=6)\n",
    "dates"
   ]
  },
  {
   "cell_type": "markdown",
   "id": "23707ac4-3cf7-45b6-a8d5-0871f5ba8426",
   "metadata": {},
   "source": [
    "Read more [from here](https://pandas.pydata.org/docs/user_guide/10min.html#basic-data-structures-in-pandas)"
   ]
  }
 ],
 "metadata": {
  "kernelspec": {
   "display_name": "Python 3 (ipykernel)",
   "language": "python",
   "name": "python3"
  },
  "language_info": {
   "codemirror_mode": {
    "name": "ipython",
    "version": 3
   },
   "file_extension": ".py",
   "mimetype": "text/x-python",
   "name": "python",
   "nbconvert_exporter": "python",
   "pygments_lexer": "ipython3",
   "version": "3.13.5"
  }
 },
 "nbformat": 4,
 "nbformat_minor": 5
}
