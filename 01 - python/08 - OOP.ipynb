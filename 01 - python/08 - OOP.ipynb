{
 "cells": [
  {
   "cell_type": "markdown",
   "id": "7666b99a",
   "metadata": {},
   "source": [
    "# OOP \n",
    "OOP (Object Oriented Programming) is a programming paradigm that uses objects and classes to structure code. It allows for encapsulation, inheritance, and polymorphism, making it easier to manage complex software systems."
   ]
  },
  {
   "cell_type": "code",
   "execution_count": 10,
   "id": "38f04827",
   "metadata": {},
   "outputs": [
    {
     "name": "stdout",
     "output_type": "stream",
     "text": [
      "Hi, I'm Alice and I'm 25 years old\n",
      "After birthday: 26\n"
     ]
    }
   ],
   "source": [
    "# 0. Class Definition\n",
    "class Person:\n",
    "    def __init__(self, name, age):\n",
    "        self.name = name\n",
    "        self.age = age\n",
    "    \n",
    "    def introduce(self):\n",
    "        return f\"Hi, I'm {self.name} and I'm {self.age} years old\"\n",
    "    \n",
    "    def have_birthday(self):\n",
    "        self.age += 1\n",
    "\n",
    "# Create objects\n",
    "person1 = Person(\"Alice\", 25)\n",
    "person2 = Person(\"Bob\", 30)\n",
    "\n",
    "print(person1.introduce())\n",
    "person1.have_birthday()\n",
    "print(f\"After birthday: {person1.age}\")"
   ]
  },
  {
   "cell_type": "code",
   "execution_count": 3,
   "id": "ee98077f",
   "metadata": {},
   "outputs": [
    {
     "name": "stdout",
     "output_type": "stream",
     "text": [
      "Dog makes a sound.\n"
     ]
    }
   ],
   "source": [
    "# 1. Class and Object\n",
    "class Animal:\n",
    "  def __init__(self, name):\n",
    "    self.name = name  # Attribute\n",
    "\n",
    "  def speak(self):      # Method\n",
    "    return f\"{self.name} makes a sound.\"\n",
    "\n",
    "# Create an object\n",
    "dog = Animal(\"Dog\")\n",
    "print(dog.speak())"
   ]
  },
  {
   "cell_type": "code",
   "execution_count": 4,
   "id": "00448e34",
   "metadata": {},
   "outputs": [
    {
     "name": "stdout",
     "output_type": "stream",
     "text": [
      "Buddy barks.\n"
     ]
    }
   ],
   "source": [
    "# 2. Inheritance\n",
    "class Dog(Animal):\n",
    "  def speak(self):\n",
    "    return f\"{self.name} barks.\"\n",
    "\n",
    "my_dog = Dog(\"Buddy\")\n",
    "print(my_dog.speak())"
   ]
  },
  {
   "cell_type": "code",
   "execution_count": 5,
   "id": "ec332ba4",
   "metadata": {},
   "outputs": [
    {
     "name": "stdout",
     "output_type": "stream",
     "text": [
      "150\n"
     ]
    }
   ],
   "source": [
    "# 3. Encapsulation\n",
    "class BankAccount:\n",
    "  def __init__(self, balance):\n",
    "    self.__balance = balance  # Private attribute\n",
    "\n",
    "  def deposit(self, amount):\n",
    "    self.__balance += amount\n",
    "\n",
    "  def get_balance(self):\n",
    "    return self.__balance\n",
    "\n",
    "account = BankAccount(100)\n",
    "account.deposit(50)\n",
    "print(account.get_balance())"
   ]
  },
  {
   "cell_type": "code",
   "execution_count": 6,
   "id": "27205ca3",
   "metadata": {},
   "outputs": [
    {
     "name": "stdout",
     "output_type": "stream",
     "text": [
      "Rex barks.\n",
      "Whiskers meows.\n"
     ]
    }
   ],
   "source": [
    "# 4. Polymorphism\n",
    "class Cat(Animal):\n",
    "  def speak(self):\n",
    "    return f\"{self.name} meows.\"\n",
    "\n",
    "animals = [Dog(\"Rex\"), Cat(\"Whiskers\")]\n",
    "for animal in animals:\n",
    "  print(animal.speak())"
   ]
  },
  {
   "cell_type": "code",
   "execution_count": 7,
   "id": "05fde027",
   "metadata": {},
   "outputs": [
    {
     "name": "stdout",
     "output_type": "stream",
     "text": [
      "Car is driving\n"
     ]
    }
   ],
   "source": [
    "# 5. Abstraction\n",
    "\n",
    "class Vehicle(ABC):\n",
    "  @abstractmethod\n",
    "  def drive(self):\n",
    "    pass\n",
    "\n",
    "class Car(Vehicle):\n",
    "  def drive(self):\n",
    "    return \"Car is driving\"\n",
    "\n",
    "car = Car()\n",
    "print(car.drive())"
   ]
  },
  {
   "cell_type": "code",
   "execution_count": 8,
   "id": "35b18570",
   "metadata": {},
   "outputs": [
    {
     "name": "stdout",
     "output_type": "stream",
     "text": [
      "0\n",
      "2\n"
     ]
    }
   ],
   "source": [
    "# 6. Class vs Instance Attributes\n",
    "class Counter:\n",
    "  count = 0  # Class attribute\n",
    "\n",
    "  def __init__(self):\n",
    "    Counter.count += 1\n",
    "\n",
    "print(Counter.count)\n",
    "c1 = Counter()\n",
    "c2 = Counter()\n",
    "print(Counter.count)"
   ]
  },
  {
   "cell_type": "code",
   "execution_count": 9,
   "id": "3c194272",
   "metadata": {},
   "outputs": [
    {
     "name": "stdout",
     "output_type": "stream",
     "text": [
      "5\n",
      "This is a math utility class.\n"
     ]
    }
   ],
   "source": [
    "# 7. Static and Class Methods\n",
    "class MathUtils:\n",
    "  @staticmethod\n",
    "  def add(a, b):\n",
    "    return a + b\n",
    "\n",
    "  @classmethod\n",
    "  def description(cls):\n",
    "    return \"This is a math utility class.\"\n",
    "\n",
    "print(MathUtils.add(2, 3))\n",
    "print(MathUtils.description())"
   ]
  }
 ],
 "metadata": {
  "kernelspec": {
   "display_name": ".venv",
   "language": "python",
   "name": "python3"
  },
  "language_info": {
   "codemirror_mode": {
    "name": "ipython",
    "version": 3
   },
   "file_extension": ".py",
   "mimetype": "text/x-python",
   "name": "python",
   "nbconvert_exporter": "python",
   "pygments_lexer": "ipython3",
   "version": "3.13.5"
  }
 },
 "nbformat": 4,
 "nbformat_minor": 5
}
