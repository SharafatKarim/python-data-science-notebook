{
 "cells": [
  {
   "cell_type": "markdown",
   "id": "7666b99a",
   "metadata": {},
   "source": [
    "# OOP (Object Oriented Programming) \n",
    "is a programming paradigm that uses objects and classes to structure code. It allows for encapsulation, inheritance, and polymorphism, making it easier to manage complex software systems."
   ]
  },
  {
   "cell_type": "code",
   "execution_count": 1,
   "id": "38f04827",
   "metadata": {},
   "outputs": [
    {
     "name": "stdout",
     "output_type": "stream",
     "text": [
      "Hi, I'm Alice and I'm 25 years old\n",
      "After birthday: 26\n"
     ]
    }
   ],
   "source": [
    "class Person:\n",
    "    def __init__(self, name, age):\n",
    "        self.name = name\n",
    "        self.age = age\n",
    "    \n",
    "    def introduce(self):\n",
    "        return f\"Hi, I'm {self.name} and I'm {self.age} years old\"\n",
    "    \n",
    "    def have_birthday(self):\n",
    "        self.age += 1\n",
    "\n",
    "# Create objects\n",
    "person1 = Person(\"Alice\", 25)\n",
    "person2 = Person(\"Bob\", 30)\n",
    "\n",
    "print(person1.introduce())\n",
    "person1.have_birthday()\n",
    "print(f\"After birthday: {person1.age}\")"
   ]
  }
 ],
 "metadata": {
  "kernelspec": {
   "display_name": ".venv",
   "language": "python",
   "name": "python3"
  },
  "language_info": {
   "codemirror_mode": {
    "name": "ipython",
    "version": 3
   },
   "file_extension": ".py",
   "mimetype": "text/x-python",
   "name": "python",
   "nbconvert_exporter": "python",
   "pygments_lexer": "ipython3",
   "version": "3.13.5"
  }
 },
 "nbformat": 4,
 "nbformat_minor": 5
}
