{
 "cells": [
  {
   "cell_type": "markdown",
   "id": "d350abec",
   "metadata": {},
   "source": [
    "## File Handling"
   ]
  },
  {
   "cell_type": "code",
   "execution_count": 1,
   "id": "ba6b52d3",
   "metadata": {},
   "outputs": [
    {
     "name": "stdout",
     "output_type": "stream",
     "text": [
      "Hello, World!\n",
      "This is a sample file.\n",
      "\n",
      "Hello, World!\n",
      "This is a sample file.\n",
      "['Name', 'Age']\n",
      "['Alice', '25']\n",
      "['Bob', '30']\n"
     ]
    }
   ],
   "source": [
    "# Writing to a file\n",
    "with open(\"sample.txt\", \"w\") as file:\n",
    "    file.write(\"Hello, World!\\n\")\n",
    "    file.write(\"This is a sample file.\\n\")\n",
    "\n",
    "# Reading from a file\n",
    "with open(\"sample.txt\", \"r\") as file:\n",
    "    content = file.read()\n",
    "    print(content)\n",
    "\n",
    "# Reading line by line\n",
    "with open(\"sample.txt\", \"r\") as file:\n",
    "    for line in file:\n",
    "        print(line.strip())\n",
    "\n",
    "# Working with CSV-like data\n",
    "import csv\n",
    "\n",
    "# Writing CSV\n",
    "data = [[\"Name\", \"Age\"], [\"Alice\", 25], [\"Bob\", 30]]\n",
    "with open(\"people.csv\", \"w\", newline=\"\") as file:\n",
    "    writer = csv.writer(file)\n",
    "    writer.writerows(data)\n",
    "\n",
    "# Reading CSV\n",
    "with open(\"people.csv\", \"r\") as file:\n",
    "    reader = csv.reader(file)\n",
    "    for row in reader:\n",
    "        print(row)\n",
    "\n",
    "# Delete the created files\n",
    "import os\n",
    "os.remove(\"sample.txt\")\n",
    "os.remove(\"people.csv\")"
   ]
  }
 ],
 "metadata": {
  "kernelspec": {
   "display_name": ".venv",
   "language": "python",
   "name": "python3"
  },
  "language_info": {
   "codemirror_mode": {
    "name": "ipython",
    "version": 3
   },
   "file_extension": ".py",
   "mimetype": "text/x-python",
   "name": "python",
   "nbconvert_exporter": "python",
   "pygments_lexer": "ipython3",
   "version": "3.13.5"
  }
 },
 "nbformat": 4,
 "nbformat_minor": 5
}
