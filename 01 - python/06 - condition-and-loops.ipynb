{
 "cells": [
  {
   "cell_type": "markdown",
   "metadata": {},
   "source": [
    "# Condition & Loops"
   ]
  },
  {
   "cell_type": "markdown",
   "metadata": {},
   "source": [
    "## Conditional Statements"
   ]
  },
  {
   "cell_type": "code",
   "execution_count": 14,
   "metadata": {},
   "outputs": [
    {
     "name": "stdout",
     "output_type": "stream",
     "text": [
      "Adult\n"
     ]
    }
   ],
   "source": [
    "age = 18\n",
    "if age >= 18:\n",
    "    print(\"Adult\")\n",
    "elif age < 5:\n",
    "    print(\"child\")\n",
    "else:\n",
    "    print(\"Minor\")"
   ]
  },
  {
   "cell_type": "code",
   "execution_count": 15,
   "metadata": {},
   "outputs": [],
   "source": [
    "def my_adder(a, b, c):\n",
    "    \"\"\"\n",
    "    Calculate the sum of three numbers\n",
    "    author\n",
    "    date\n",
    "    \"\"\"\n",
    "\n",
    "    # Check for erroneous input\n",
    "    if not (\n",
    "        isinstance(a, (int, float))\n",
    "        or isinstance(b, (int, float))\n",
    "        or isinstance(c, (int, float))\n",
    "    ):\n",
    "        raise TypeError(\"Inputs must be numbers.\")\n",
    "    # Return output\n",
    "    return a + b + c"
   ]
  },
  {
   "cell_type": "code",
   "execution_count": 16,
   "metadata": {},
   "outputs": [
    {
     "name": "stdout",
     "output_type": "stream",
     "text": [
      "Result: 6\n"
     ]
    }
   ],
   "source": [
    "# Testing the my_adder function\n",
    "result = my_adder(1, 2, 3)\n",
    "print(f\"Result: {result}\")  # Returns 6"
   ]
  },
  {
   "cell_type": "code",
   "execution_count": 17,
   "metadata": {},
   "outputs": [],
   "source": [
    "# Testing error handling (uncomment to test)\n",
    "# try:\n",
    "#     result = my_adder(1, '2', 3)\n",
    "#     print(result)\n",
    "# except TypeError as e:\n",
    "#     print(f\"Error: {e}\")  # Raises TypeError: Inputs must be numbers."
   ]
  },
  {
   "cell_type": "markdown",
   "metadata": {},
   "source": [
    "## Ternary Operator\n",
    "\n",
    "Basic syntax for a ternary operator in Python:\n",
    "\n",
    "```python\n",
    "value_if_true if condition else value_if_false\n",
    "```"
   ]
  },
  {
   "cell_type": "code",
   "execution_count": 18,
   "metadata": {},
   "outputs": [
    {
     "name": "stdout",
     "output_type": "stream",
     "text": [
      "student\n"
     ]
    }
   ],
   "source": [
    "is_student = True\n",
    "person = 'student' if is_student else 'not student'\n",
    "print(person)"
   ]
  },
  {
   "cell_type": "markdown",
   "metadata": {},
   "source": [
    "## Loops"
   ]
  },
  {
   "cell_type": "code",
   "execution_count": 19,
   "metadata": {},
   "outputs": [
    {
     "name": "stdout",
     "output_type": "stream",
     "text": [
      "1\n",
      "2\n",
      "apple\n",
      "banana\n",
      "cherry\n"
     ]
    }
   ],
   "source": [
    "# For loop\n",
    "fruits = [1, 2, \"apple\", \"banana\", \"cherry\"]\n",
    "for fruit in fruits:\n",
    "    print(fruit)"
   ]
  },
  {
   "cell_type": "code",
   "execution_count": 20,
   "metadata": {},
   "outputs": [
    {
     "name": "stdout",
     "output_type": "stream",
     "text": [
      "0\n",
      "1\n",
      "2\n"
     ]
    }
   ],
   "source": [
    "# While loop\n",
    "count = 0\n",
    "while count < 3:\n",
    "    print(count)\n",
    "    count += 1"
   ]
  },
  {
   "cell_type": "code",
   "execution_count": 21,
   "metadata": {},
   "outputs": [
    {
     "name": "stdout",
     "output_type": "stream",
     "text": [
      "Looping through a list:\n",
      "1\n",
      "2\n",
      "apple\n",
      "banana\n",
      "cherry\n"
     ]
    }
   ],
   "source": [
    "# List\n",
    "print(\"Looping through a list:\")\n",
    "for item in fruits:\n",
    "    print(item)"
   ]
  },
  {
   "cell_type": "code",
   "execution_count": 22,
   "metadata": {},
   "outputs": [
    {
     "name": "stdout",
     "output_type": "stream",
     "text": [
      "Looping through a tuple:\n",
      "10\n",
      "20\n",
      "30\n"
     ]
    }
   ],
   "source": [
    "# Tuple\n",
    "my_tuple = (10, 20, 30)\n",
    "print(\"Looping through a tuple:\")\n",
    "for item in my_tuple:\n",
    "    print(item)"
   ]
  },
  {
   "cell_type": "code",
   "execution_count": 23,
   "metadata": {},
   "outputs": [
    {
     "name": "stdout",
     "output_type": "stream",
     "text": [
      "Looping through a dictionary (keys):\n",
      "name : Alice\n",
      "age : 25\n",
      "city : New York\n"
     ]
    }
   ],
   "source": [
    "# Dictionary (keys)\n",
    "my_dict = {'name': 'Alice', 'age': 25, 'city': 'New York'}\n",
    "print(\"Looping through a dictionary (keys):\")\n",
    "for key in my_dict:\n",
    "    print(key, \":\", my_dict[key])"
   ]
  },
  {
   "cell_type": "code",
   "execution_count": 24,
   "metadata": {},
   "outputs": [
    {
     "name": "stdout",
     "output_type": "stream",
     "text": [
      "Looping through a dictionary (items):\n",
      "name : Alice\n",
      "age : 25\n",
      "city : New York\n"
     ]
    }
   ],
   "source": [
    "# Dictionary (items)\n",
    "print(\"Looping through a dictionary (items):\")\n",
    "for key, value in my_dict.items():\n",
    "    print(key, \":\", value)"
   ]
  },
  {
   "cell_type": "code",
   "execution_count": 25,
   "metadata": {},
   "outputs": [
    {
     "name": "stdout",
     "output_type": "stream",
     "text": [
      "Example 1: range(5)\n",
      "0\n",
      "1\n",
      "2\n",
      "3\n",
      "4\n"
     ]
    }
   ],
   "source": [
    "# range() generates a sequence of numbers.\n",
    "# Syntax: range(start, stop, step)\n",
    "# - start: The first number (default is 0)\n",
    "# - stop: The sequence ends before this number (required)\n",
    "# - step: Difference between each number (default is 1)\n",
    "\n",
    "# Example 1: range(5) -> [0, 1, 2, 3, 4]\n",
    "print(\"Example 1: range(5)\")\n",
    "for i in range(5):\n",
    "    print(i)"
   ]
  },
  {
   "cell_type": "code",
   "execution_count": 26,
   "metadata": {},
   "outputs": [
    {
     "name": "stdout",
     "output_type": "stream",
     "text": [
      "Example 2: range(2, 7)\n",
      "2\n",
      "3\n",
      "4\n",
      "5\n",
      "6\n"
     ]
    }
   ],
   "source": [
    "# Example 2: range(2, 7) -> [2, 3, 4, 5, 6]\n",
    "print(\"Example 2: range(2, 7)\")\n",
    "for i in range(2, 7):\n",
    "    print(i)"
   ]
  },
  {
   "cell_type": "code",
   "execution_count": 27,
   "metadata": {},
   "outputs": [
    {
     "name": "stdout",
     "output_type": "stream",
     "text": [
      "Example 3: range(1, 10, 2)\n",
      "1\n",
      "3\n",
      "5\n",
      "7\n",
      "9\n"
     ]
    }
   ],
   "source": [
    "# Example 3: range(1, 10, 2) -> [1, 3, 5, 7, 9]\n",
    "print(\"Example 3: range(1, 10, 2)\")\n",
    "for i in range(1, 10, 2):\n",
    "    print(i)"
   ]
  },
  {
   "cell_type": "code",
   "execution_count": 28,
   "metadata": {},
   "outputs": [
    {
     "name": "stdout",
     "output_type": "stream",
     "text": [
      "Converting range to list:\n",
      "[0, 1, 2, 3, 4]\n"
     ]
    }
   ],
   "source": [
    "# Converting range to a list\n",
    "numbers = list(range(5))  # [0, 1, 2, 3, 4]\n",
    "print(\"Converting range to list:\")\n",
    "print(numbers)"
   ]
  },
  {
   "cell_type": "markdown",
   "metadata": {},
   "source": [
    "## List Comprehensions\n",
    "Efficient way to create lists - very useful for data processing."
   ]
  },
  {
   "cell_type": "code",
   "execution_count": 29,
   "metadata": {},
   "outputs": [
    {
     "name": "stdout",
     "output_type": "stream",
     "text": [
      "Basic list comprehension:\n",
      "[0, 1, 4, 9, 16]\n"
     ]
    }
   ],
   "source": [
    "# Basic list comprehension\n",
    "squares = [x**2 for x in range(5)]\n",
    "print(\"Basic list comprehension:\")\n",
    "print(squares)"
   ]
  },
  {
   "cell_type": "code",
   "execution_count": 30,
   "metadata": {},
   "outputs": [
    {
     "name": "stdout",
     "output_type": "stream",
     "text": [
      "List comprehension with condition:\n",
      "[0, 4, 16, 36, 64]\n"
     ]
    }
   ],
   "source": [
    "# List comprehension with condition\n",
    "even_squares = [x**2 for x in range(10) if x % 2 == 0]\n",
    "print(\"List comprehension with condition:\")\n",
    "print(even_squares)"
   ]
  },
  {
   "cell_type": "code",
   "execution_count": 31,
   "metadata": {},
   "outputs": [
    {
     "name": "stdout",
     "output_type": "stream",
     "text": [
      "Dictionary comprehension:\n",
      "{0: 0, 1: 1, 2: 4, 3: 9, 4: 16}\n"
     ]
    }
   ],
   "source": [
    "# Dictionary comprehension\n",
    "square_dict = {x: x**2 for x in range(5)}\n",
    "print(\"Dictionary comprehension:\")\n",
    "print(square_dict)"
   ]
  },
  {
   "cell_type": "code",
   "execution_count": 32,
   "metadata": {},
   "outputs": [
    {
     "name": "stdout",
     "output_type": "stream",
     "text": [
      "Dictionary comprehension from tuples:\n",
      "{'a': 1, 'b': 2, 'c': 3}\n"
     ]
    }
   ],
   "source": [
    "# Dictionary comprehension from a list of tuples\n",
    "tuples = [('a', 1), ('b', 2), ('c', 3)]\n",
    "tuple_dict = {key: value for key, value in tuples}\n",
    "print(\"Dictionary comprehension from tuples:\")\n",
    "print(tuple_dict)"
   ]
  },
  {
   "cell_type": "code",
   "execution_count": 33,
   "metadata": {},
   "outputs": [
    {
     "name": "stdout",
     "output_type": "stream",
     "text": [
      "Set comprehension:\n",
      "{0, 9, 4, 1}\n"
     ]
    }
   ],
   "source": [
    "# Set comprehension\n",
    "unique_squares = {x**2 for x in range(-3, 4)}\n",
    "print(\"Set comprehension:\")\n",
    "print(unique_squares)"
   ]
  },
  {
   "cell_type": "markdown",
   "metadata": {},
   "source": [
    "## Iterators and Generators\n",
    "Memory-efficient ways to work with large datasets."
   ]
  },
  {
   "cell_type": "code",
   "execution_count": 34,
   "metadata": {},
   "outputs": [],
   "source": [
    "# Generator function\n",
    "def fibonacci_generator(n):\n",
    "    a, b = 0, 1\n",
    "    for _ in range(n):\n",
    "        yield a\n",
    "        a, b = b, a + b"
   ]
  },
  {
   "cell_type": "code",
   "execution_count": 35,
   "metadata": {},
   "outputs": [
    {
     "name": "stdout",
     "output_type": "stream",
     "text": [
      "Using generator:\n",
      "[0, 1, 1, 2, 3, 5, 8, 13, 21, 34]\n"
     ]
    }
   ],
   "source": [
    "# Using generator\n",
    "fib = fibonacci_generator(10)\n",
    "print(\"Using generator:\")\n",
    "print(list(fib))"
   ]
  },
  {
   "cell_type": "code",
   "execution_count": 36,
   "metadata": {},
   "outputs": [
    {
     "name": "stdout",
     "output_type": "stream",
     "text": [
      "Generator expression:\n",
      "[0, 1, 4, 9, 16]\n"
     ]
    }
   ],
   "source": [
    "# Generator expression\n",
    "squares_gen = (x**2 for x in range(5))\n",
    "print(\"Generator expression:\")\n",
    "print(list(squares_gen))"
   ]
  },
  {
   "cell_type": "code",
   "execution_count": 37,
   "metadata": {},
   "outputs": [
    {
     "name": "stdout",
     "output_type": "stream",
     "text": [
      "Using range as iterator:\n",
      "0\n",
      "1\n",
      "2\n"
     ]
    }
   ],
   "source": [
    "# Using range (which is an iterator)\n",
    "print(\"Using range as iterator:\")\n",
    "for i in range(3):\n",
    "    print(i)"
   ]
  },
  {
   "cell_type": "code",
   "execution_count": 38,
   "metadata": {},
   "outputs": [
    {
     "name": "stdout",
     "output_type": "stream",
     "text": [
      "Using enumerate:\n",
      "0: apple\n",
      "1: banana\n",
      "2: cherry\n"
     ]
    }
   ],
   "source": [
    "# enumerate - useful for getting index and value\n",
    "fruits = [\"apple\", \"banana\", \"cherry\"]\n",
    "print(\"Using enumerate:\")\n",
    "for index, fruit in enumerate(fruits):\n",
    "    print(f\"{index}: {fruit}\")"
   ]
  },
  {
   "cell_type": "code",
   "execution_count": 39,
   "metadata": {},
   "outputs": [
    {
     "name": "stdout",
     "output_type": "stream",
     "text": [
      "Using zip:\n",
      "Alice is 25 years old\n",
      "Bob is 30 years old\n",
      "Charlie is 35 years old\n"
     ]
    }
   ],
   "source": [
    "# zip - combining multiple iterables\n",
    "names = [\"Alice\", \"Bob\", \"Charlie\"]\n",
    "ages = [25, 30, 35]\n",
    "print(\"Using zip:\")\n",
    "for name, age in zip(names, ages):\n",
    "    print(f\"{name} is {age} years old\")"
   ]
  }
 ],
 "metadata": {
  "kernelspec": {
   "display_name": ".venv",
   "language": "python",
   "name": "python3"
  },
  "language_info": {
   "codemirror_mode": {
    "name": "ipython",
    "version": 3
   },
   "file_extension": ".py",
   "mimetype": "text/x-python",
   "name": "python",
   "nbconvert_exporter": "python",
   "pygments_lexer": "ipython3",
   "version": "3.13.5"
  }
 },
 "nbformat": 4,
 "nbformat_minor": 2
}
