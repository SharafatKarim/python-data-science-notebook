{
 "cells": [
  {
   "cell_type": "markdown",
   "metadata": {},
   "source": [
    "# Condition & Loops"
   ]
  },
  {
   "cell_type": "markdown",
   "metadata": {},
   "source": [
    "## Conditional Statements"
   ]
  },
  {
   "cell_type": "code",
   "execution_count": 1,
   "metadata": {},
   "outputs": [
    {
     "name": "stdout",
     "output_type": "stream",
     "text": [
      "Adult\n"
     ]
    }
   ],
   "source": [
    "age = 18\n",
    "if age >= 18:\n",
    "    print(\"Adult\")\n",
    "elif age < 5:\n",
    "    print(\"child\")\n",
    "else:\n",
    "    print(\"Minor\")"
   ]
  },
  {
   "cell_type": "code",
   "execution_count": null,
   "metadata": {},
   "outputs": [
    {
     "data": {
      "text/plain": [
       "6"
      ]
     },
     "execution_count": 4,
     "metadata": {},
     "output_type": "execute_result"
    }
   ],
   "source": [
    "def my_adder(a, b, c):\n",
    "    \"\"\"\n",
    "    Calculate the sum of three numbers\n",
    "    author\n",
    "    date\n",
    "    \"\"\"\n",
    "\n",
    "    # Check for erroneous input\n",
    "    if not (\n",
    "        isinstance(a, (int, float))\n",
    "        or isinstance(b, (int, float))\n",
    "        or isinstance(c, (int, float))\n",
    "    ):\n",
    "        raise TypeError(\"Inputs must be numbers.\")\n",
    "    # Return output\n",
    "    return a + b + c\n",
    "\n",
    "\n",
    "my_adder(1, 2, 3)  # Returns 6\n",
    "# my_adder(1, '2', 3)  # Raises TypeError: Inputs must be numbers."
   ]
  },
  {
   "cell_type": "markdown",
   "metadata": {},
   "source": [
    "## Ternary Operator\n",
    "\n",
    "Basic syntax for a ternary operator in Python:\n",
    "\n",
    "```python\n",
    "value_if_true if condition else value_if_false\n",
    "```"
   ]
  },
  {
   "cell_type": "code",
   "execution_count": 6,
   "metadata": {},
   "outputs": [
    {
     "name": "stdout",
     "output_type": "stream",
     "text": [
      "student\n"
     ]
    }
   ],
   "source": [
    "is_student = True\n",
    "person = 'student' if is_student else 'not student'\n",
    "print(person)"
   ]
  },
  {
   "cell_type": "markdown",
   "metadata": {},
   "source": [
    "## Loops"
   ]
  },
  {
   "cell_type": "code",
   "execution_count": 8,
   "metadata": {},
   "outputs": [
    {
     "name": "stdout",
     "output_type": "stream",
     "text": [
      "1\n",
      "2\n",
      "apple\n",
      "banana\n",
      "cherry\n",
      "--------------------------------------------------\n",
      "0\n",
      "1\n",
      "2\n"
     ]
    }
   ],
   "source": [
    "# For loop\n",
    "fruits = [1, 2, \"apple\", \"banana\", \"cherry\"]\n",
    "for fruit in fruits:\n",
    "    print(fruit)\n",
    "\n",
    "print(\"-\" * 50)\n",
    "\n",
    "# While loop\n",
    "count = 0\n",
    "while count < 3:\n",
    "    print(count)\n",
    "    count += 1"
   ]
  },
  {
   "cell_type": "code",
   "execution_count": 9,
   "metadata": {},
   "outputs": [
    {
     "name": "stdout",
     "output_type": "stream",
     "text": [
      "Looping through a list:\n",
      "1\n",
      "2\n",
      "apple\n",
      "banana\n",
      "cherry\n",
      "\n",
      "Looping through a tuple:\n",
      "10\n",
      "20\n",
      "30\n",
      "\n",
      "Looping through a dictionary (keys):\n",
      "name : Alice\n",
      "age : 25\n",
      "city : New York\n",
      "\n",
      "Looping through a dictionary (items):\n",
      "name : Alice\n",
      "age : 25\n",
      "city : New York\n"
     ]
    }
   ],
   "source": [
    "# Looping through different data types\n",
    "\n",
    "# List\n",
    "print(\"Looping through a list:\")\n",
    "for item in fruits:\n",
    "  print(item)\n",
    "\n",
    "# Tuple\n",
    "my_tuple = (10, 20, 30)\n",
    "print(\"\\nLooping through a tuple:\")\n",
    "for item in my_tuple:\n",
    "  print(item)\n",
    "\n",
    "# Dictionary\n",
    "my_dict = {'name': 'Alice', 'age': 25, 'city': 'New York'}\n",
    "print(\"\\nLooping through a dictionary (keys):\")\n",
    "for key in my_dict:\n",
    "  print(key, \":\", my_dict[key])\n",
    "\n",
    "print(\"\\nLooping through a dictionary (items):\")\n",
    "for key, value in my_dict.items():\n",
    "  print(key, \":\", value)"
   ]
  },
  {
   "cell_type": "code",
   "execution_count": 11,
   "metadata": {},
   "outputs": [
    {
     "name": "stdout",
     "output_type": "stream",
     "text": [
      "0\n",
      "1\n",
      "2\n",
      "3\n",
      "4\n",
      "--------------------------------------------------\n",
      "2\n",
      "3\n",
      "4\n",
      "5\n",
      "6\n",
      "--------------------------------------------------\n",
      "1\n",
      "3\n",
      "5\n",
      "7\n",
      "9\n",
      "--------------------------------------------------\n",
      "[0, 1, 2, 3, 4]\n"
     ]
    }
   ],
   "source": [
    "# range() generates a sequence of numbers.\n",
    "# Syntax: range(start, stop, step)\n",
    "# - start: The first number (default is 0)\n",
    "# - stop: The sequence ends before this number (required)\n",
    "# - step: Difference between each number (default is 1)\n",
    "\n",
    "# Example 1: range(5) -> [0, 1, 2, 3, 4]\n",
    "for i in range(5):\n",
    "  print(i)\n",
    "\n",
    "print(\"-\" * 50)\n",
    "\n",
    "# Example 2: range(2, 7) -> [2, 3, 4, 5, 6]\n",
    "for i in range(2, 7):\n",
    "  print(i)\n",
    "  \n",
    "print(\"-\" * 50)\n",
    "\n",
    "# Example 3: range(1, 10, 2) -> [1, 3, 5, 7, 9]\n",
    "for i in range(1, 10, 2):\n",
    "  print(i)\n",
    "\n",
    "print(\"-\" * 50)\n",
    "\n",
    "# You can convert range to a list:\n",
    "numbers = list(range(5))  # [0, 1, 2, 3, 4]\n",
    "print(numbers)"
   ]
  },
  {
   "cell_type": "markdown",
   "metadata": {},
   "source": [
    "## List Comprehensions\n",
    "Efficient way to create lists - very useful for data processing."
   ]
  },
  {
   "cell_type": "code",
   "execution_count": 13,
   "metadata": {},
   "outputs": [
    {
     "name": "stdout",
     "output_type": "stream",
     "text": [
      "[0, 1, 4, 9, 16]\n",
      "[0, 4, 16, 36, 64]\n",
      "{0: 0, 1: 1, 2: 4, 3: 9, 4: 16}\n",
      "{'a': 1, 'b': 2, 'c': 3}\n",
      "{0, 9, 4, 1}\n"
     ]
    }
   ],
   "source": [
    "# List comprehensions\n",
    "squares = [x**2 for x in range(5)]\n",
    "print(squares)\n",
    "\n",
    "# List comprehension with condition\n",
    "even_squares = [x**2 for x in range(10) if x % 2 == 0]\n",
    "print(even_squares)\n",
    "\n",
    "# Dictionary comprehension\n",
    "square_dict = {x: x**2 for x in range(5)}\n",
    "print(square_dict)\n",
    "\n",
    "# Dictionary comprehension from a list of tuples\n",
    "tuples = [('a', 1), ('b', 2), ('c', 3)]\n",
    "tuple_dict = {key: value for key, value in tuples}\n",
    "print(tuple_dict)\n",
    "\n",
    "# Set comprehension\n",
    "unique_squares = {x**2 for x in range(-3, 4)}\n",
    "print(unique_squares)"
   ]
  },
  {
   "cell_type": "markdown",
   "metadata": {},
   "source": [
    "## Iterators and Generators\n",
    "Memory-efficient ways to work with large datasets."
   ]
  },
  {
   "cell_type": "code",
   "execution_count": 44,
   "metadata": {},
   "outputs": [
    {
     "name": "stdout",
     "output_type": "stream",
     "text": [
      "[0, 1, 1, 2, 3, 5, 8, 13, 21, 34]\n",
      "[0, 1, 4, 9, 16]\n",
      "0\n",
      "1\n",
      "2\n",
      "0: apple\n",
      "1: banana\n",
      "2: cherry\n",
      "Alice is 25 years old\n",
      "Bob is 30 years old\n",
      "Charlie is 35 years old\n"
     ]
    }
   ],
   "source": [
    "# Generator function\n",
    "def fibonacci_generator(n):\n",
    "    a, b = 0, 1\n",
    "    for _ in range(n):\n",
    "        yield a\n",
    "        a, b = b, a + b\n",
    "\n",
    "# Using generator\n",
    "fib = fibonacci_generator(10)\n",
    "print(list(fib))\n",
    "\n",
    "# Generator expression\n",
    "squares_gen = (x**2 for x in range(5))\n",
    "print(list(squares_gen))\n",
    "\n",
    "# Using range (which is an iterator)\n",
    "for i in range(3):\n",
    "    print(i)\n",
    "\n",
    "# enumerate - useful for getting index and value\n",
    "fruits = [\"apple\", \"banana\", \"cherry\"]\n",
    "for index, fruit in enumerate(fruits):\n",
    "    print(f\"{index}: {fruit}\")\n",
    "\n",
    "# zip - combining multiple iterables\n",
    "names = [\"Alice\", \"Bob\", \"Charlie\"]\n",
    "ages = [25, 30, 35]\n",
    "for name, age in zip(names, ages):\n",
    "    print(f\"{name} is {age} years old\")"
   ]
  }
 ],
 "metadata": {
  "kernelspec": {
   "display_name": ".venv",
   "language": "python",
   "name": "python3"
  },
  "language_info": {
   "codemirror_mode": {
    "name": "ipython",
    "version": 3
   },
   "file_extension": ".py",
   "mimetype": "text/x-python",
   "name": "python",
   "nbconvert_exporter": "python",
   "pygments_lexer": "ipython3",
   "version": "3.13.5"
  }
 },
 "nbformat": 4,
 "nbformat_minor": 2
}
