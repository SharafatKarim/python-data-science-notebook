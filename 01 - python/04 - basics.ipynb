{
 "cells": [
  {
   "cell_type": "markdown",
   "metadata": {},
   "source": [
    "# Variables & Data Structures\n",
    "A quick guide to Python basics for programmers switching from other languages."
   ]
  },
  {
   "cell_type": "markdown",
   "metadata": {},
   "source": [
    "## Variables and Data Types"
   ]
  },
  {
   "cell_type": "code",
   "execution_count": null,
   "metadata": {},
   "outputs": [
    {
     "name": "stdout",
     "output_type": "stream",
     "text": [
      "10 3.14 Alice True\n"
     ]
    }
   ],
   "source": [
    "x = 10           # Integer\n",
    "y = 3.14         # Float\n",
    "name = \"Alice\"   # String\n",
    "is_active = True # Boolean\n",
    "print(x, y, name, is_active)"
   ]
  },
  {
   "cell_type": "markdown",
   "metadata": {},
   "source": [
    "## String Operations"
   ]
  },
  {
   "cell_type": "code",
   "execution_count": null,
   "metadata": {},
   "outputs": [
    {
     "name": "stdout",
     "output_type": "stream",
     "text": [
      "Hello, World!\n",
      "3\n",
      "  hello, world!  \n",
      "  HELLO, WORLD!  \n",
      "  Hello, Python!  \n",
      "['  Hello', ' World!  ']\n",
      "17\n",
      "--------------------------------------------------\n",
      "I\n",
      "Love\n",
      "Linux!\n",
      "--------------------------------------------------\n",
      "My name is \"Alice\" and I am 30 years old\n",
      "My name is Alice and I am 30 years old. Don't you get it?\n"
     ]
    }
   ],
   "source": [
    "text = \"  Hello, World!  \"\n",
    "print(text.strip())          # Remove whitespace\n",
    "print(text.count('l'))       # count occurance\n",
    "print(text.lower())          # Convert to lowercase\n",
    "print(text.upper())          # Convert to uppercase\n",
    "print(text.replace(\"World\", \"Python\"))  # Replace substring\n",
    "print(text.split(\",\"))       # Split string\n",
    "print(len(text))             # String length\n",
    "\n",
    "print(\"-\"*50)\n",
    "\n",
    "w = \"I Love L i n u x !\"\n",
    "print(w[0])\n",
    "print(w[2:6])\n",
    "print(w[7::2])\n",
    "\n",
    "print(\"-\"*50)\n",
    "\n",
    "# String formatting\n",
    "name = \"Alice\"\n",
    "age = 30\n",
    "print(f\"My name is \\\"{name}\\\" and I am {age} years old\")  # f-string\n",
    "print(\"My name is {} and I am {} years old. Don't you get it?\".format(name, age))  # format method"
   ]
  },
  {
   "cell_type": "markdown",
   "metadata": {},
   "source": [
    "## Lists"
   ]
  },
  {
   "cell_type": "code",
   "execution_count": 26,
   "metadata": {},
   "outputs": [
    {
     "name": "stdout",
     "output_type": "stream",
     "text": [
      "[1, 2, 'apple', 'banana', 'cherry']\n",
      "[1, 2, 'apple', 'banana', 'cherry', 'orange']\n",
      "['cherry', 'orange']\n",
      "6\n",
      "--------------------------------------------------\n",
      "[1, 2, 'apple', 'banana', 'cherry', 'orange', 'orange', 'mango']\n",
      "[1, 2, 'apple', 'banana', 'cherry', 'orange', 'orange']\n",
      "False\n",
      "--------------------------------------------------\n",
      "['A', 'r', 'c', 'h', 'L', 'i', 'n', 'u', 'x', '!']\n"
     ]
    }
   ],
   "source": [
    "fruits = [1, 2, \"apple\", \"banana\", \"cherry\"]\n",
    "print(fruits)\n",
    "fruits.append(\"orange\")\n",
    "print(fruits)\n",
    "print(fruits[-2:]) # Last 2\n",
    "print(len(fruits)) # Length\n",
    "\n",
    "print(\"-\" * 50)\n",
    "\n",
    "list_2 = [\"orange\", \"mango\"]\n",
    "print(fruits + list_2)\n",
    "\n",
    "del(list_2[1])\n",
    "print(fruits + list_2)\n",
    "print(\"mango\" in list_2)\n",
    "del(list_2)\n",
    "\n",
    "print(\"-\" * 50)\n",
    "\n",
    "print(list(\"ArchLinux!\"))"
   ]
  },
  {
   "cell_type": "markdown",
   "metadata": {},
   "source": [
    "## Tuples"
   ]
  },
  {
   "cell_type": "code",
   "execution_count": 32,
   "metadata": {},
   "outputs": [
    {
     "name": "stdout",
     "output_type": "stream",
     "text": [
      "(2, 3)\n"
     ]
    }
   ],
   "source": [
    "point = (2, 3)\n",
    "print(point)\n",
    "# Tuples are immutable"
   ]
  },
  {
   "cell_type": "markdown",
   "metadata": {},
   "source": [
    "## Dictionaries"
   ]
  },
  {
   "cell_type": "code",
   "execution_count": 34,
   "metadata": {},
   "outputs": [
    {
     "name": "stdout",
     "output_type": "stream",
     "text": [
      "{'name': 'Bob', 'age': 25}\n",
      "26\n",
      "dict_keys(['name', 'age'])\n",
      "dict_values(['Bob', 26])\n",
      "2\n",
      "--------------------------------------------------\n",
      "{'UC Berkeley': 'USA', 'Oxford': 'UK'}\n",
      "True\n"
     ]
    }
   ],
   "source": [
    "person = {\"name\": \"Bob\", \"age\": 25}\n",
    "print(person)\n",
    "\n",
    "person[\"age\"] = 26\n",
    "print(person['age'])\n",
    "\n",
    "print(person.keys())\n",
    "print(person.values())\n",
    "print(len(person))\n",
    "\n",
    "print('-' * 50)\n",
    "\n",
    "print(dict([(\"UC Berkeley\", \"USA\"), ('Oxford', 'UK')]))\n",
    "print('UC Berkeley' in dict([(\"UC Berkeley\", \"USA\"), ('Oxford', 'UK')]))"
   ]
  },
  {
   "cell_type": "markdown",
   "metadata": {},
   "source": [
    "## Sets"
   ]
  },
  {
   "cell_type": "code",
   "execution_count": 34,
   "metadata": {},
   "outputs": [
    {
     "name": "stdout",
     "output_type": "stream",
     "text": [
      "{1, 2, 3}\n"
     ]
    }
   ],
   "source": [
    "numbers = {1, 2, 3, 2}\n",
    "print(numbers) # Duplicates removed"
   ]
  },
  {
   "cell_type": "markdown",
   "metadata": {},
   "source": [
    "## Conditional Statements"
   ]
  },
  {
   "cell_type": "code",
   "execution_count": 4,
   "metadata": {},
   "outputs": [
    {
     "name": "stdout",
     "output_type": "stream",
     "text": [
      "Adult\n"
     ]
    }
   ],
   "source": [
    "age = 18\n",
    "if age >= 18:\n",
    "    print(\"Adult\")\n",
    "elif age < 5:\n",
    "    print(\"child\")\n",
    "else:\n",
    "    print(\"Minor\")"
   ]
  },
  {
   "cell_type": "markdown",
   "metadata": {},
   "source": [
    "## Loops"
   ]
  },
  {
   "cell_type": "code",
   "execution_count": 28,
   "metadata": {},
   "outputs": [
    {
     "name": "stdout",
     "output_type": "stream",
     "text": [
      "1\n",
      "2\n",
      "apple\n",
      "banana\n",
      "cherry\n",
      "--------------------------------------------------\n",
      "0\n",
      "1\n",
      "2\n"
     ]
    }
   ],
   "source": [
    "# For loop\n",
    "fruits = [1, 2, \"apple\", \"banana\", \"cherry\"]\n",
    "for fruit in fruits:\n",
    "    print(fruit)\n",
    "\n",
    "print(\"-\" * 50)\n",
    "\n",
    "# While loop\n",
    "count = 0\n",
    "while count < 3:\n",
    "    print(count)\n",
    "    count += 1"
   ]
  },
  {
   "cell_type": "markdown",
   "metadata": {},
   "source": [
    "## Exception Handling"
   ]
  },
  {
   "cell_type": "code",
   "execution_count": 38,
   "metadata": {},
   "outputs": [
    {
     "name": "stdout",
     "output_type": "stream",
     "text": [
      "Cannot divide by zero!\n"
     ]
    }
   ],
   "source": [
    "try:\n",
    "    result = 10 / 0\n",
    "except ZeroDivisionError:\n",
    "    print(\"Cannot divide by zero!\")"
   ]
  },
  {
   "cell_type": "markdown",
   "metadata": {},
   "source": [
    "## List Comprehensions\n",
    "Efficient way to create lists - very useful for data processing."
   ]
  },
  {
   "cell_type": "code",
   "execution_count": null,
   "metadata": {},
   "outputs": [
    {
     "name": "stdout",
     "output_type": "stream",
     "text": [
      "[0, 1, 4, 9, 16]\n",
      "[0, 4, 16, 36, 64]\n",
      "{0: 0, 1: 1, 2: 4, 3: 9, 4: 16}\n",
      "{0, 9, 4, 1}\n"
     ]
    }
   ],
   "source": [
    "# List comprehensions\n",
    "squares = [x**2 for x in range(5)]\n",
    "print(squares)\n",
    "\n",
    "# List comprehension with condition\n",
    "even_squares = [x**2 for x in range(10) if x % 2 == 0]\n",
    "print(even_squares)\n",
    "\n",
    "# Dictionary comprehension\n",
    "square_dict = {x: x**2 for x in range(5)}\n",
    "print(square_dict)\n",
    "\n",
    "# Set comprehension\n",
    "unique_squares = {x**2 for x in range(-3, 4)}\n",
    "print(unique_squares)"
   ]
  },
  {
   "cell_type": "markdown",
   "metadata": {},
   "source": [
    "## Classes and Objects\n",
    "Object-oriented programming basics for creating custom data structures."
   ]
  },
  {
   "cell_type": "code",
   "execution_count": 41,
   "metadata": {},
   "outputs": [
    {
     "name": "stdout",
     "output_type": "stream",
     "text": [
      "Hi, I'm Alice and I'm 25 years old\n",
      "After birthday: 26\n"
     ]
    }
   ],
   "source": [
    "class Person:\n",
    "    def __init__(self, name, age):\n",
    "        self.name = name\n",
    "        self.age = age\n",
    "    \n",
    "    def introduce(self):\n",
    "        return f\"Hi, I'm {self.name} and I'm {self.age} years old\"\n",
    "    \n",
    "    def have_birthday(self):\n",
    "        self.age += 1\n",
    "\n",
    "# Create objects\n",
    "person1 = Person(\"Alice\", 25)\n",
    "person2 = Person(\"Bob\", 30)\n",
    "\n",
    "print(person1.introduce())\n",
    "person1.have_birthday()\n",
    "print(f\"After birthday: {person1.age}\")"
   ]
  },
  {
   "cell_type": "markdown",
   "metadata": {},
   "source": [
    "## Modules and Imports\n",
    "Working with modules and packages - essential for data science libraries."
   ]
  },
  {
   "cell_type": "code",
   "execution_count": null,
   "metadata": {},
   "outputs": [
    {
     "name": "stdout",
     "output_type": "stream",
     "text": [
      "4.0\n",
      "3.141592653589793\n",
      "2025-07-16 09:01:43.667626\n",
      "1\n"
     ]
    }
   ],
   "source": [
    "import math\n",
    "from datetime import datetime\n",
    "import random as rnd\n",
    "\n",
    "# Using imported modules\n",
    "print(math.sqrt(16))\n",
    "print(math.pi)\n",
    "\n",
    "# Current datetime\n",
    "now = datetime.now()\n",
    "print(now)\n",
    "\n",
    "# Random number\n",
    "print(rnd.randint(1, 10))\n",
    "\n",
    "# Common data science imports (just examples)\n",
    "import numpy as np\n",
    "import pandas as pd\n",
    "import matplotlib.pyplot as plt"
   ]
  },
  {
   "cell_type": "markdown",
   "metadata": {},
   "source": [
    "## File Handling\n",
    "Reading and writing files - crucial for data analysis."
   ]
  },
  {
   "cell_type": "code",
   "execution_count": 43,
   "metadata": {},
   "outputs": [
    {
     "name": "stdout",
     "output_type": "stream",
     "text": [
      "Hello, World!\n",
      "This is a sample file.\n",
      "\n",
      "Hello, World!\n",
      "This is a sample file.\n",
      "['Name', 'Age']\n",
      "['Alice', '25']\n",
      "['Bob', '30']\n"
     ]
    }
   ],
   "source": [
    "# Writing to a file\n",
    "with open(\"sample.txt\", \"w\") as file:\n",
    "    file.write(\"Hello, World!\\n\")\n",
    "    file.write(\"This is a sample file.\\n\")\n",
    "\n",
    "# Reading from a file\n",
    "with open(\"sample.txt\", \"r\") as file:\n",
    "    content = file.read()\n",
    "    print(content)\n",
    "\n",
    "# Reading line by line\n",
    "with open(\"sample.txt\", \"r\") as file:\n",
    "    for line in file:\n",
    "        print(line.strip())\n",
    "\n",
    "# Working with CSV-like data\n",
    "import csv\n",
    "\n",
    "# Writing CSV\n",
    "data = [[\"Name\", \"Age\"], [\"Alice\", 25], [\"Bob\", 30]]\n",
    "with open(\"people.csv\", \"w\", newline=\"\") as file:\n",
    "    writer = csv.writer(file)\n",
    "    writer.writerows(data)\n",
    "\n",
    "# Reading CSV\n",
    "with open(\"people.csv\", \"r\") as file:\n",
    "    reader = csv.reader(file)\n",
    "    for row in reader:\n",
    "        print(row)\n",
    "\n",
    "# Delete the created files\n",
    "import os\n",
    "os.remove(\"sample.txt\")\n",
    "os.remove(\"people.csv\")"
   ]
  },
  {
   "cell_type": "markdown",
   "metadata": {},
   "source": [
    "## Iterators and Generators\n",
    "Memory-efficient ways to work with large datasets."
   ]
  },
  {
   "cell_type": "code",
   "execution_count": 44,
   "metadata": {},
   "outputs": [
    {
     "name": "stdout",
     "output_type": "stream",
     "text": [
      "[0, 1, 1, 2, 3, 5, 8, 13, 21, 34]\n",
      "[0, 1, 4, 9, 16]\n",
      "0\n",
      "1\n",
      "2\n",
      "0: apple\n",
      "1: banana\n",
      "2: cherry\n",
      "Alice is 25 years old\n",
      "Bob is 30 years old\n",
      "Charlie is 35 years old\n"
     ]
    }
   ],
   "source": [
    "# Generator function\n",
    "def fibonacci_generator(n):\n",
    "    a, b = 0, 1\n",
    "    for _ in range(n):\n",
    "        yield a\n",
    "        a, b = b, a + b\n",
    "\n",
    "# Using generator\n",
    "fib = fibonacci_generator(10)\n",
    "print(list(fib))\n",
    "\n",
    "# Generator expression\n",
    "squares_gen = (x**2 for x in range(5))\n",
    "print(list(squares_gen))\n",
    "\n",
    "# Using range (which is an iterator)\n",
    "for i in range(3):\n",
    "    print(i)\n",
    "\n",
    "# enumerate - useful for getting index and value\n",
    "fruits = [\"apple\", \"banana\", \"cherry\"]\n",
    "for index, fruit in enumerate(fruits):\n",
    "    print(f\"{index}: {fruit}\")\n",
    "\n",
    "# zip - combining multiple iterables\n",
    "names = [\"Alice\", \"Bob\", \"Charlie\"]\n",
    "ages = [25, 30, 35]\n",
    "for name, age in zip(names, ages):\n",
    "    print(f\"{name} is {age} years old\")"
   ]
  },
  {
   "cell_type": "markdown",
   "metadata": {},
   "source": [
    "## Regular Expressions\n",
    "Pattern matching for text processing and data cleaning. To learn about regular expressions, refer to the [Regular Expressions](https://regexlearn.com/) site, cause it's awesome."
   ]
  },
  {
   "cell_type": "code",
   "execution_count": 45,
   "metadata": {},
   "outputs": [
    {
     "name": "stdout",
     "output_type": "stream",
     "text": [
      "['john@example.com']\n",
      "['123-456-7890']\n",
      "Contact us at john@example.com or call [PHONE]\n",
      "['Contact', 'us', 'at', 'john@example.com', 'or', 'call', '123-456-7890']\n",
      "Username: john\n",
      "Domain: example\n",
      "Extension: com\n"
     ]
    }
   ],
   "source": [
    "import re\n",
    "\n",
    "text = \"Contact us at john@example.com or call 123-456-7890\"\n",
    "\n",
    "# Find email addresses\n",
    "emails = re.findall(r'\\w+@\\w+\\.\\w+', text)\n",
    "print(emails)\n",
    "\n",
    "# Find phone numbers\n",
    "phones = re.findall(r'\\d{3}-\\d{3}-\\d{4}', text)\n",
    "print(phones)\n",
    "\n",
    "# Replace pattern\n",
    "clean_text = re.sub(r'\\d{3}-\\d{3}-\\d{4}', '[PHONE]', text)\n",
    "print(clean_text)\n",
    "\n",
    "# Split text\n",
    "words = re.split(r'\\s+', text)\n",
    "print(words)\n",
    "\n",
    "# Match patterns\n",
    "pattern = r'(\\w+)@(\\w+)\\.(\\w+)'\n",
    "match = re.search(pattern, text)\n",
    "if match:\n",
    "    print(f\"Username: {match.group(1)}\")\n",
    "    print(f\"Domain: {match.group(2)}\")\n",
    "    print(f\"Extension: {match.group(3)}\")"
   ]
  }
 ],
 "metadata": {
  "kernelspec": {
   "display_name": ".venv",
   "language": "python",
   "name": "python3"
  },
  "language_info": {
   "codemirror_mode": {
    "name": "ipython",
    "version": 3
   },
   "file_extension": ".py",
   "mimetype": "text/x-python",
   "name": "python",
   "nbconvert_exporter": "python",
   "pygments_lexer": "ipython3",
   "version": "3.13.5"
  }
 },
 "nbformat": 4,
 "nbformat_minor": 2
}
