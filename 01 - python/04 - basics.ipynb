{
 "cells": [
  {
   "cell_type": "markdown",
   "metadata": {},
   "source": [
    "# Variables & Data Structures\n",
    "A quick guide to Python basics for programmers switching from other languages."
   ]
  },
  {
   "cell_type": "markdown",
   "metadata": {},
   "source": [
    "## Variables and Data Types"
   ]
  },
  {
   "cell_type": "code",
   "execution_count": 5,
   "metadata": {},
   "outputs": [
    {
     "name": "stdout",
     "output_type": "stream",
     "text": [
      "10 3.14 Alice True\n"
     ]
    }
   ],
   "source": [
    "x = 10           # Integer\n",
    "y = 3.14         # Float\n",
    "name = \"Alice\"   # String\n",
    "is_active = True # Boolean\n",
    "print(x, y, name, is_active)"
   ]
  },
  {
   "cell_type": "markdown",
   "metadata": {},
   "source": [
    "## String Operations"
   ]
  },
  {
   "cell_type": "code",
   "execution_count": 6,
   "metadata": {},
   "outputs": [
    {
     "name": "stdout",
     "output_type": "stream",
     "text": [
      "Hello, World!\n",
      "3\n",
      "  hello, world!  \n",
      "  HELLO, WORLD!  \n",
      "  Hello, Python!  \n",
      "['  Hello', ' World!  ']\n",
      "17\n",
      "--------------------------------------------------\n",
      "I\n",
      "Love\n",
      "Linux!\n",
      "--------------------------------------------------\n",
      "My name is \"Alice\" and I am 30 years old\n",
      "My name is Alice and I am 30 years old. Don't you get it?\n"
     ]
    }
   ],
   "source": [
    "text = \"  Hello, World!  \"\n",
    "print(text.strip())          # Remove whitespace\n",
    "print(text.count('l'))       # count occurance\n",
    "print(text.lower())          # Convert to lowercase\n",
    "print(text.upper())          # Convert to uppercase\n",
    "print(text.replace(\"World\", \"Python\"))  # Replace substring\n",
    "print(text.split(\",\"))       # Split string\n",
    "print(len(text))             # String length\n",
    "\n",
    "print(\"-\"*50)\n",
    "\n",
    "w = \"I Love L i n u x !\"\n",
    "print(w[0])\n",
    "print(w[2:6])\n",
    "print(w[7::2])\n",
    "\n",
    "print(\"-\"*50)\n",
    "\n",
    "# String formatting\n",
    "name = \"Alice\"\n",
    "age = 30\n",
    "print(f\"My name is \\\"{name}\\\" and I am {age} years old\")  # f-string\n",
    "print(\"My name is {} and I am {} years old. Don't you get it?\".format(name, age))  # format method"
   ]
  },
  {
   "cell_type": "markdown",
   "metadata": {},
   "source": [
    "## Lists"
   ]
  },
  {
   "cell_type": "code",
   "execution_count": 7,
   "metadata": {},
   "outputs": [
    {
     "name": "stdout",
     "output_type": "stream",
     "text": [
      "[1, 2, 'apple', 'banana', 'cherry']\n",
      "[1, 2, 'apple', 'banana', 'cherry', 'orange']\n",
      "['cherry', 'orange']\n",
      "6\n",
      "--------------------------------------------------\n",
      "[1, 2, 'apple', 'banana', 'cherry', 'orange', 'orange', 'mango']\n",
      "[1, 2, 'apple', 'banana', 'cherry', 'orange', 'orange']\n",
      "False\n",
      "--------------------------------------------------\n",
      "['A', 'r', 'c', 'h', 'L', 'i', 'n', 'u', 'x', '!']\n"
     ]
    }
   ],
   "source": [
    "fruits = [1, 2, \"apple\", \"banana\", \"cherry\"]\n",
    "print(fruits)\n",
    "fruits.append(\"orange\")\n",
    "print(fruits)\n",
    "print(fruits[-2:]) # Last 2\n",
    "print(len(fruits)) # Length\n",
    "\n",
    "print(\"-\" * 50)\n",
    "\n",
    "list_2 = [\"orange\", \"mango\"]\n",
    "print(fruits + list_2)\n",
    "\n",
    "del(list_2[1])\n",
    "print(fruits + list_2)\n",
    "print(\"mango\" in list_2)\n",
    "del(list_2)\n",
    "\n",
    "print(\"-\" * 50)\n",
    "\n",
    "print(list(\"ArchLinux!\"))"
   ]
  },
  {
   "cell_type": "markdown",
   "metadata": {},
   "source": [
    "## Tuples"
   ]
  },
  {
   "cell_type": "code",
   "execution_count": 8,
   "metadata": {},
   "outputs": [
    {
     "name": "stdout",
     "output_type": "stream",
     "text": [
      "(2, 3)\n"
     ]
    }
   ],
   "source": [
    "point = (2, 3)\n",
    "print(point)\n",
    "# Tuples are immutable"
   ]
  },
  {
   "cell_type": "markdown",
   "metadata": {},
   "source": [
    "## Dictionaries"
   ]
  },
  {
   "cell_type": "code",
   "execution_count": 9,
   "metadata": {},
   "outputs": [
    {
     "name": "stdout",
     "output_type": "stream",
     "text": [
      "{'name': 'Bob', 'age': 25}\n",
      "26\n",
      "dict_keys(['name', 'age'])\n",
      "dict_values(['Bob', 26])\n",
      "2\n",
      "--------------------------------------------------\n",
      "{'UC Berkeley': 'USA', 'Oxford': 'UK'}\n",
      "True\n"
     ]
    }
   ],
   "source": [
    "person = {\"name\": \"Bob\", \"age\": 25}\n",
    "print(person)\n",
    "\n",
    "person[\"age\"] = 26\n",
    "print(person['age'])\n",
    "\n",
    "print(person.keys())\n",
    "print(person.values())\n",
    "print(len(person))\n",
    "\n",
    "print('-' * 50)\n",
    "\n",
    "print(dict([(\"UC Berkeley\", \"USA\"), ('Oxford', 'UK')]))\n",
    "print('UC Berkeley' in dict([(\"UC Berkeley\", \"USA\"), ('Oxford', 'UK')]))"
   ]
  },
  {
   "cell_type": "markdown",
   "metadata": {},
   "source": [
    "## Sets"
   ]
  },
  {
   "cell_type": "code",
   "execution_count": 10,
   "metadata": {},
   "outputs": [
    {
     "name": "stdout",
     "output_type": "stream",
     "text": [
      "{1, 2, 3}\n"
     ]
    }
   ],
   "source": [
    "numbers = {1, 2, 3, 2}\n",
    "print(numbers) # Duplicates removed"
   ]
  },
  {
   "cell_type": "markdown",
   "metadata": {},
   "source": [
    "## Conditional Statements"
   ]
  },
  {
   "cell_type": "code",
   "execution_count": 11,
   "metadata": {},
   "outputs": [
    {
     "name": "stdout",
     "output_type": "stream",
     "text": [
      "Adult\n"
     ]
    }
   ],
   "source": [
    "age = 18\n",
    "if age >= 18:\n",
    "    print(\"Adult\")\n",
    "elif age < 5:\n",
    "    print(\"child\")\n",
    "else:\n",
    "    print(\"Minor\")"
   ]
  },
  {
   "cell_type": "markdown",
   "metadata": {},
   "source": [
    "## Loops"
   ]
  },
  {
   "cell_type": "code",
   "execution_count": 12,
   "metadata": {},
   "outputs": [
    {
     "name": "stdout",
     "output_type": "stream",
     "text": [
      "1\n",
      "2\n",
      "apple\n",
      "banana\n",
      "cherry\n",
      "--------------------------------------------------\n",
      "0\n",
      "1\n",
      "2\n"
     ]
    }
   ],
   "source": [
    "# For loop\n",
    "fruits = [1, 2, \"apple\", \"banana\", \"cherry\"]\n",
    "for fruit in fruits:\n",
    "    print(fruit)\n",
    "\n",
    "print(\"-\" * 50)\n",
    "\n",
    "# While loop\n",
    "count = 0\n",
    "while count < 3:\n",
    "    print(count)\n",
    "    count += 1"
   ]
  },
  {
   "cell_type": "markdown",
   "metadata": {},
   "source": [
    "## Exception Handling"
   ]
  },
  {
   "cell_type": "code",
   "execution_count": 13,
   "metadata": {},
   "outputs": [
    {
     "name": "stdout",
     "output_type": "stream",
     "text": [
      "Cannot divide by zero!\n"
     ]
    }
   ],
   "source": [
    "try:\n",
    "    result = 10 / 0\n",
    "except ZeroDivisionError:\n",
    "    print(\"Cannot divide by zero!\")"
   ]
  },
  {
   "cell_type": "markdown",
   "metadata": {},
   "source": [
    "## List Comprehensions\n",
    "Efficient way to create lists - very useful for data processing."
   ]
  },
  {
   "cell_type": "code",
   "execution_count": 14,
   "metadata": {},
   "outputs": [
    {
     "name": "stdout",
     "output_type": "stream",
     "text": [
      "[0, 1, 4, 9, 16]\n",
      "[0, 4, 16, 36, 64]\n",
      "{0: 0, 1: 1, 2: 4, 3: 9, 4: 16}\n",
      "{0, 9, 4, 1}\n"
     ]
    }
   ],
   "source": [
    "# List comprehensions\n",
    "squares = [x**2 for x in range(5)]\n",
    "print(squares)\n",
    "\n",
    "# List comprehension with condition\n",
    "even_squares = [x**2 for x in range(10) if x % 2 == 0]\n",
    "print(even_squares)\n",
    "\n",
    "# Dictionary comprehension\n",
    "square_dict = {x: x**2 for x in range(5)}\n",
    "print(square_dict)\n",
    "\n",
    "# Set comprehension\n",
    "unique_squares = {x**2 for x in range(-3, 4)}\n",
    "print(unique_squares)"
   ]
  },
  {
   "cell_type": "markdown",
   "metadata": {},
   "source": [
    "## Regular Expressions\n",
    "Pattern matching for text processing and data cleaning. To learn about regular expressions, refer to the [Regular Expressions](https://regexlearn.com/) site, cause it's awesome."
   ]
  },
  {
   "cell_type": "code",
   "execution_count": 19,
   "metadata": {},
   "outputs": [],
   "source": [
    "import re\n",
    "text = \"Contact us at john@example.com or call 123-456-7890\""
   ]
  },
  {
   "cell_type": "code",
   "execution_count": 20,
   "metadata": {},
   "outputs": [
    {
     "name": "stdout",
     "output_type": "stream",
     "text": [
      "Emails: ['john@example.com']\n"
     ]
    }
   ],
   "source": [
    "# Find email addresses\n",
    "emails = re.findall(r'\\w+@\\w+\\.\\w+', text)\n",
    "print('Emails:', emails)"
   ]
  },
  {
   "cell_type": "code",
   "execution_count": 21,
   "metadata": {},
   "outputs": [
    {
     "name": "stdout",
     "output_type": "stream",
     "text": [
      "Phones: ['123-456-7890']\n"
     ]
    }
   ],
   "source": [
    "# Find phone numbers\n",
    "phones = re.findall(r'\\d{3}-\\d{3}-\\d{4}', text)\n",
    "print('Phones:', phones)"
   ]
  },
  {
   "cell_type": "code",
   "execution_count": 22,
   "metadata": {},
   "outputs": [
    {
     "name": "stdout",
     "output_type": "stream",
     "text": [
      "Cleaned text: Contact us at john@example.com or call [PHONE]\n"
     ]
    }
   ],
   "source": [
    "# Replace phone numbers with a placeholder\n",
    "clean_text = re.sub(r'\\d{3}-\\d{3}-\\d{4}', '[PHONE]', text)\n",
    "print('Cleaned text:', clean_text)"
   ]
  },
  {
   "cell_type": "code",
   "execution_count": 23,
   "metadata": {},
   "outputs": [
    {
     "name": "stdout",
     "output_type": "stream",
     "text": [
      "Words: ['Contact', 'us', 'at', 'john@example.com', 'or', 'call', '123-456-7890']\n"
     ]
    }
   ],
   "source": [
    "# Split text into words\n",
    "words = re.split(r'\\s+', text)\n",
    "print('Words:', words)"
   ]
  },
  {
   "cell_type": "code",
   "execution_count": 24,
   "metadata": {},
   "outputs": [
    {
     "name": "stdout",
     "output_type": "stream",
     "text": [
      "Username: john\n",
      "Domain: example\n",
      "Extension: com\n"
     ]
    }
   ],
   "source": [
    "# Extract username, domain, and extension from email\n",
    "pattern = r'(\\w+)@(\\w+)\\.(\\w+)'\n",
    "match = re.search(pattern, text)\n",
    "if match:\n",
    "    print('Username:', match.group(1))\n",
    "    print('Domain:', match.group(2))\n",
    "    print('Extension:', match.group(3))"
   ]
  }
 ],
 "metadata": {
  "kernelspec": {
   "display_name": ".venv",
   "language": "python",
   "name": "python3"
  },
  "language_info": {
   "codemirror_mode": {
    "name": "ipython",
    "version": 3
   },
   "file_extension": ".py",
   "mimetype": "text/x-python",
   "name": "python",
   "nbconvert_exporter": "python",
   "pygments_lexer": "ipython3",
   "version": "3.13.5"
  }
 },
 "nbformat": 4,
 "nbformat_minor": 2
}
