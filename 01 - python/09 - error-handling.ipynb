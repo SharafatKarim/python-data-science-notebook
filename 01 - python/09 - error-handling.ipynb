{
 "cells": [
  {
   "cell_type": "markdown",
   "id": "a63cac60",
   "metadata": {},
   "source": [
    "# Error Handling\n",
    "\n",
    "## Introduction\n",
    "Error handling is an essential part of programming in Python. It allows you to anticipate and manage errors that may occur during the execution of your code.\n"
   ]
  },
  {
   "cell_type": "code",
   "execution_count": 1,
   "id": "5e8df8cb",
   "metadata": {},
   "outputs": [
    {
     "name": "stdout",
     "output_type": "stream",
     "text": [
      "Error: Division by zero is not allowed!\n"
     ]
    }
   ],
   "source": [
    "try:\n",
    "    x = 5 / 0\n",
    "except ZeroDivisionError:\n",
    "    print(\"Error: Division by zero is not allowed!\")\n"
   ]
  },
  {
   "cell_type": "markdown",
   "id": "f4f6f4f4",
   "metadata": {},
   "source": [
    "## Types of Errors"
   ]
  },
  {
   "cell_type": "markdown",
   "id": "611b0633",
   "metadata": {},
   "source": [
    "### Built in"
   ]
  },
  {
   "cell_type": "code",
   "execution_count": 2,
   "id": "7f7f7f7f",
   "metadata": {},
   "outputs": [
    {
     "name": "stdout",
     "output_type": "stream",
     "text": [
      "No errors occurred!\n"
     ]
    }
   ],
   "source": [
    "try:\n",
    "    x = 5 / 2\n",
    "except ZeroDivisionError:\n",
    "    print(\"Error: Division by zero is not allowed!\")\n",
    "else:\n",
    "    print(\"No errors occurred!\")\n"
   ]
  },
  {
   "cell_type": "code",
   "execution_count": 4,
   "id": "10101010",
   "metadata": {},
   "outputs": [
    {
     "name": "stdout",
     "output_type": "stream",
     "text": [
      "Error: Division by zero is not allowed!\n",
      "This code will always be executed!\n"
     ]
    }
   ],
   "source": [
    "try:\n",
    "    x = 5 / 0\n",
    "except ZeroDivisionError:\n",
    "    print(\"Error: Division by zero is not allowed!\")\n",
    "finally:\n",
    "    print(\"This code will always be executed!\")\n"
   ]
  },
  {
   "cell_type": "markdown",
   "id": "6574426e",
   "metadata": {},
   "source": [
    "### Custom exceptions"
   ]
  },
  {
   "cell_type": "code",
   "execution_count": 3,
   "id": "9f9f9f9f",
   "metadata": {},
   "outputs": [
    {
     "name": "stdout",
     "output_type": "stream",
     "text": [
      "Error: This is a custom error!\n"
     ]
    }
   ],
   "source": [
    "class CustomError(Exception):\n",
    "    pass\n",
    "\n",
    "try:\n",
    "    raise CustomError(\"This is a custom error!\")\n",
    "except CustomError as e:\n",
    "    print(f\"Error: {e}\")\n"
   ]
  }
 ],
 "metadata": {
  "kernelspec": {
   "display_name": ".venv",
   "language": "python",
   "name": "python3"
  },
  "language_info": {
   "codemirror_mode": {
    "name": "ipython",
    "version": 3
   },
   "file_extension": ".py",
   "mimetype": "text/x-python",
   "name": "python",
   "nbconvert_exporter": "python",
   "pygments_lexer": "ipython3",
   "version": "3.13.5"
  }
 },
 "nbformat": 4,
 "nbformat_minor": 5
}
