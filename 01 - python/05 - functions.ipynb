{
 "cells": [
  {
   "cell_type": "markdown",
   "metadata": {},
   "source": [
    "# Functions"
   ]
  },
  {
   "cell_type": "markdown",
   "metadata": {},
   "source": [
    "## Built in Functions"
   ]
  },
  {
   "cell_type": "code",
   "execution_count": 3,
   "metadata": {},
   "outputs": [
    {
     "name": "stdout",
     "output_type": "stream",
     "text": [
      "<class 'builtin_function_or_method'>\n",
      "<class 'numpy._ArrayFunctionDispatcher'>\n"
     ]
    }
   ],
   "source": [
    "print(type(len))\n",
    "\n",
    "import numpy as np\n",
    "print(type(np.linspace))"
   ]
  },
  {
   "cell_type": "markdown",
   "metadata": {},
   "source": [
    "## Custom Function "
   ]
  },
  {
   "cell_type": "code",
   "execution_count": 37,
   "metadata": {},
   "outputs": [
    {
     "name": "stdout",
     "output_type": "stream",
     "text": [
      "Hello, Alice!\n"
     ]
    }
   ],
   "source": [
    "def greet(name):\n",
    "    return f\"Hello, {name}!\"\n",
    "\n",
    "print(greet(\"Alice\"))"
   ]
  },
  {
   "cell_type": "code",
   "execution_count": 4,
   "metadata": {},
   "outputs": [
    {
     "name": "stdout",
     "output_type": "stream",
     "text": [
      "Within function: n is 42\n",
      "Within function: change n to 3\n",
      "Outside function: Value of n is 3\n"
     ]
    }
   ],
   "source": [
    "n = 42\n",
    "\n",
    "def func():\n",
    "    global n\n",
    "    print(f'Within function: n is {n}')\n",
    "    n = 3\n",
    "    print(f'Within function: change n to {n}')\n",
    "\n",
    "func()\n",
    "print(f'Outside function: Value of n is {n}')"
   ]
  },
  {
   "cell_type": "markdown",
   "metadata": {},
   "source": [
    "## Nested Functions"
   ]
  },
  {
   "cell_type": "code",
   "execution_count": null,
   "metadata": {},
   "outputs": [],
   "source": [
    "import math\n",
    "\n",
    "def my_dist_xyz(x, y, z):\n",
    "    \"\"\"\n",
    "    x, y, z are 2D coordinates contained in a tuple\n",
    "    output:\n",
    "    d - list, where\n",
    "        d[0] is the distance between x and y\n",
    "        d[1] is the distance between x and z\n",
    "        d[2] is the distance between y and z\n",
    "    \"\"\"\n",
    "    \n",
    "    def my_dist(x, y):\n",
    "        \"\"\"\n",
    "        subfunction for my_dist_xyz\n",
    "        Output is the distance between x and y, \n",
    "        computed using the distance formula\n",
    "        \"\"\"\n",
    "        out = math.sqrt((x[0]-y[0])**2+(x[1]-y[1])**2)\n",
    "        return out\n",
    "    \n",
    "    d0 = my_dist(x, y)\n",
    "    d1 = my_dist(x, z)\n",
    "    d2 = my_dist(y, z)\n",
    "    \n",
    "    return [d0, d1, d2]"
   ]
  },
  {
   "cell_type": "code",
   "execution_count": 10,
   "metadata": {},
   "outputs": [
    {
     "name": "stdout",
     "output_type": "stream",
     "text": [
      "[1.0, 1.4142135623730951, 1.0]\n"
     ]
    },
    {
     "ename": "NameError",
     "evalue": "name 'my_dist' is not defined",
     "output_type": "error",
     "traceback": [
      "\u001b[31m---------------------------------------------------------------------------\u001b[39m",
      "\u001b[31mNameError\u001b[39m                                 Traceback (most recent call last)",
      "\u001b[36mCell\u001b[39m\u001b[36m \u001b[39m\u001b[32mIn[10]\u001b[39m\u001b[32m, line 3\u001b[39m\n\u001b[32m      1\u001b[39m d = my_dist_xyz((\u001b[32m0\u001b[39m, \u001b[32m0\u001b[39m), (\u001b[32m0\u001b[39m, \u001b[32m1\u001b[39m), (\u001b[32m1\u001b[39m, \u001b[32m1\u001b[39m))\n\u001b[32m      2\u001b[39m \u001b[38;5;28mprint\u001b[39m(d)\n\u001b[32m----> \u001b[39m\u001b[32m3\u001b[39m d = \u001b[43mmy_dist\u001b[49m((\u001b[32m0\u001b[39m, \u001b[32m0\u001b[39m), (\u001b[32m0\u001b[39m, \u001b[32m1\u001b[39m)) \n",
      "\u001b[31mNameError\u001b[39m: name 'my_dist' is not defined"
     ]
    }
   ],
   "source": [
    "d = my_dist_xyz((0, 0), (0, 1), (1, 1))\n",
    "print(d)\n",
    "d = my_dist((0, 0), (0, 1)) "
   ]
  },
  {
   "cell_type": "markdown",
   "metadata": {},
   "source": [
    "> Here `my_dist` is a nested function, and so it's not defined outside of `my_dist_xyz`."
   ]
  },
  {
   "cell_type": "markdown",
   "metadata": {},
   "source": [
    "## Lambda Functions\n",
    "\n",
    "The syntax for a lambda function is:\n",
    "\n",
    "```python\n",
    "lambda arguments: expression\n",
    "```"
   ]
  },
  {
   "cell_type": "code",
   "execution_count": 11,
   "metadata": {},
   "outputs": [
    {
     "name": "stdout",
     "output_type": "stream",
     "text": [
      "4\n",
      "25\n"
     ]
    }
   ],
   "source": [
    "square = lambda x: x**2\n",
    "\n",
    "print(square(2))\n",
    "print(square(5))"
   ]
  },
  {
   "cell_type": "markdown",
   "metadata": {},
   "source": [
    "> EXAMPLE: Sort [(1, 2), (2, 0), (4, 1)] based on the 2nd item in the tuple."
   ]
  },
  {
   "cell_type": "code",
   "execution_count": 14,
   "metadata": {},
   "outputs": [
    {
     "data": {
      "text/plain": [
       "[(2, 0), (4, 1), (1, 2)]"
      ]
     },
     "execution_count": 14,
     "metadata": {},
     "output_type": "execute_result"
    }
   ],
   "source": [
    "sorted([(1, 2), (2, 0), (4, 1)], key=lambda x: x[1])"
   ]
  },
  {
   "cell_type": "code",
   "execution_count": null,
   "metadata": {},
   "outputs": [
    {
     "name": "stdout",
     "output_type": "stream",
     "text": [
      "25\n",
      "[1, 4, 9, 16, 25]\n",
      "[2, 4]\n",
      "[('Charlie', 78), ('Alice', 85), ('Bob', 90)]\n"
     ]
    }
   ],
   "source": [
    "# Lambda functions\n",
    "square = lambda x: x**2\n",
    "print(square(5))\n",
    "\n",
    "# Using lambda with map, filter, sort\n",
    "numbers = [1, 2, 3, 4, 5]\n",
    "squared = list(map(lambda x: x**2, numbers))\n",
    "print(squared)\n",
    "\n",
    "# Filter even numbers\n",
    "even_numbers = list(filter(lambda x: x % 2 == 0, numbers))\n",
    "print(even_numbers)\n",
    "\n",
    "# Sort by custom key\n",
    "students = [(\"Alice\", 85), (\"Bob\", 90), (\"Charlie\", 78)]\n",
    "students.sort(key=lambda x: x[1])  # Sort by grade\n",
    "print(students)"
   ]
  },
  {
   "cell_type": "markdown",
   "metadata": {},
   "source": [
    "## Recursion"
   ]
  },
  {
   "cell_type": "code",
   "execution_count": 16,
   "metadata": {},
   "outputs": [
    {
     "name": "stdout",
     "output_type": "stream",
     "text": [
      "1\n",
      "1\n",
      "2\n",
      "1\n",
      "3\n",
      "1\n",
      "1\n",
      "2\n",
      "5\n"
     ]
    },
    {
     "data": {
      "text/plain": [
       "5"
      ]
     },
     "execution_count": 16,
     "metadata": {},
     "output_type": "execute_result"
    }
   ],
   "source": [
    "def fibonacci_display(n):\n",
    "    \"\"\"Computes and returns the Fibonacci of n, \n",
    "    a postive integer.\n",
    "    \"\"\"\n",
    "    if n == 1: # first base case\n",
    "        out = 1\n",
    "        print(out)\n",
    "        return out\n",
    "    elif n == 2: # second base case\n",
    "        out = 1\n",
    "        print(out)\n",
    "        return out\n",
    "    else: # Recursive step\n",
    "        out = fibonacci_display(n-1)+fibonacci_display(n-2)\n",
    "        print(out)\n",
    "        return out # Recursive call \n",
    "    \n",
    "fibonacci_display(5)"
   ]
  },
  {
   "cell_type": "markdown",
   "metadata": {},
   "source": [
    "## Divide and conquer (Bonus)\n",
    "\n",
    "Check the next section, \"Condition & Loops\", if you don't know about their syntax. For now, let's focus on the function itself."
   ]
  },
  {
   "cell_type": "markdown",
   "metadata": {},
   "source": [
    "### Tower of Hanoi"
   ]
  },
  {
   "cell_type": "code",
   "execution_count": 20,
   "metadata": {},
   "outputs": [
    {
     "name": "stdout",
     "output_type": "stream",
     "text": [
      "Move disk 1 from tower 1 to tower 3.\n",
      "Move disk 2 from tower 1 to tower 2.\n",
      "Move disk 1 from tower 3 to tower 2.\n",
      "Move disk 3 from tower 1 to tower 3.\n",
      "Move disk 1 from tower 2 to tower 1.\n",
      "Move disk 2 from tower 2 to tower 3.\n",
      "Move disk 1 from tower 1 to tower 3.\n"
     ]
    }
   ],
   "source": [
    "def my_towers(N, from_tower, to_tower, alt_tower):\n",
    "    \"\"\"\n",
    "    Displays the moves required to move a tower of size N from the\n",
    "    'from_tower' to the 'to_tower'. \n",
    "    \n",
    "    'from_tower', 'to_tower' and 'alt_tower' are uniquely either \n",
    "    1, 2, or 3 referring to tower 1, tower 2, and tower 3. \n",
    "    \"\"\"\n",
    "    \n",
    "    if N != 0:\n",
    "        # recursive call that moves N-1 stack from starting tower\n",
    "        # to alternate tower\n",
    "        my_towers(N-1, from_tower, alt_tower, to_tower)\n",
    "        \n",
    "        # display to screen movement of bottom disk from starting\n",
    "        # tower to final tower\n",
    "        print(\"Move disk %d from tower %d to tower %d.\"\\\n",
    "                  %(N, from_tower, to_tower))\n",
    "        \n",
    "        # recursive call that moves N-1 stack from alternate tower\n",
    "        # to final tower\n",
    "        my_towers(N-1, alt_tower, to_tower, from_tower)\n",
    "\n",
    "my_towers(3, 1, 3, 2)  # Move a tower of size 3 from tower 1 to tower 3 using tower 2 as an auxiliary"
   ]
  },
  {
   "cell_type": "markdown",
   "metadata": {},
   "source": [
    "### Quick Sort"
   ]
  },
  {
   "cell_type": "code",
   "execution_count": 23,
   "metadata": {},
   "outputs": [
    {
     "name": "stdout",
     "output_type": "stream",
     "text": [
      "[1, 1, 2, 3, 6, 8, 10]\n"
     ]
    }
   ],
   "source": [
    "def my_quicksort(lst):\n",
    "    \n",
    "    if len(lst) <= 1:\n",
    "        # list of length 1 is easiest to sort \n",
    "        # because it is already sorted\n",
    "        \n",
    "        sorted_list = lst    \n",
    "    else:\n",
    "        \n",
    "        # select pivot as teh first element of the list\n",
    "        pivot = lst[0]\n",
    "        \n",
    "        # initialize lists for bigger and smaller elements \n",
    "        # as well those equal to the pivot\n",
    "        bigger = []\n",
    "        smaller = []\n",
    "        same = []\n",
    "        \n",
    "        # loop through list and put elements into appropriate array\n",
    "        \n",
    "        for item in lst:\n",
    "            if item > pivot:\n",
    "                bigger.append(item)\n",
    "            elif item < pivot:\n",
    "                smaller.append(item)\n",
    "            else:\n",
    "                same.append(item)\n",
    "        \n",
    "        sorted_list = my_quicksort(smaller) + same + my_quicksort(bigger)\n",
    "        \n",
    "    return sorted_list\n",
    "\n",
    "# Example usage\n",
    "unsorted_list = [3, 6, 8, 10, 1, 2, 1]\n",
    "sorted_list = my_quicksort(unsorted_list)\n",
    "print(sorted_list)  # Output: [1, 1, 2, 3, 6, 8, 10]"
   ]
  }
 ],
 "metadata": {
  "kernelspec": {
   "display_name": ".venv",
   "language": "python",
   "name": "python3"
  },
  "language_info": {
   "codemirror_mode": {
    "name": "ipython",
    "version": 3
   },
   "file_extension": ".py",
   "mimetype": "text/x-python",
   "name": "python",
   "nbconvert_exporter": "python",
   "pygments_lexer": "ipython3",
   "version": "3.13.5"
  }
 },
 "nbformat": 4,
 "nbformat_minor": 2
}
